{
 "cells": [
  {
   "cell_type": "markdown",
   "id": "58fb28ea-49c8-4976-a1ce-8eda033a8f72",
   "metadata": {},
   "source": [
    "## Strings Assignments"
   ]
  },
  {
   "cell_type": "markdown",
   "id": "4102c718-9627-4d47-bc5d-80b8c8bc1020",
   "metadata": {},
   "source": [
    "1. Write a program that accepts a string from user. Your program should count and display number of\n",
    "vowels in that string."
   ]
  },
  {
   "cell_type": "code",
   "execution_count": 8,
   "id": "fc699536-1f98-4c5d-ae80-f7f2ac46ae49",
   "metadata": {},
   "outputs": [
    {
     "name": "stdin",
     "output_type": "stream",
     "text": [
      "Enter a string:  python\n"
     ]
    },
    {
     "name": "stdout",
     "output_type": "stream",
     "text": [
      "Number of vowels in the string: 1\n"
     ]
    }
   ],
   "source": [
    "def count_vowels(input_string):\n",
    "    vowels = \"aeiouAEIOU\"\n",
    "    vowel_count = 0\n",
    "    for char in input_string:\n",
    "        if char in vowels:\n",
    "            vowel_count += 1\n",
    "    return vowel_count\n",
    "\n",
    "user_input = input(\"Enter a string: \")\n",
    "result = count_vowels(user_input)\n",
    "print(f\"Number of vowels in the string: {result}\")"
   ]
  },
  {
   "cell_type": "markdown",
   "id": "da4783fb-e6f6-4ba7-8f32-a7eb8cc23b72",
   "metadata": {},
   "source": [
    " 2. Write a program that reads a string from keyboard and display:\n",
    "* The number of uppercase letters in the string\n",
    "* The number of lowercase letters in the string\n",
    "* The number of digits in the string\n",
    "* The number of whitespace characters in the string "
   ]
  },
  {
   "cell_type": "code",
   "execution_count": 17,
   "id": "792fa118-8c41-47c2-b373-88814754414d",
   "metadata": {},
   "outputs": [
    {
     "name": "stdin",
     "output_type": "stream",
     "text": [
      "Enter a string:  Ferrari0334@\n"
     ]
    },
    {
     "name": "stdout",
     "output_type": "stream",
     "text": [
      "Number of uppercase letters: 1\n",
      "Number of lowercase letters: 6\n",
      "Number of digits: 4\n",
      "Number of whitespace characters: 0\n"
     ]
    }
   ],
   "source": [
    "def count_characters(input_string):\n",
    "    uppercase_count = 0\n",
    "    lowercase_count = 0\n",
    "    digit_count = 0\n",
    "    whitespace_count = 0\n",
    "\n",
    "    for char in input_string:\n",
    "        if char.isupper():\n",
    "            uppercase_count += 1\n",
    "        elif char.islower():\n",
    "            lowercase_count += 1\n",
    "        elif char.isdigit():\n",
    "            digit_count += 1\n",
    "        elif char.isspace():\n",
    "            whitespace_count += 1\n",
    "\n",
    "    return uppercase_count, lowercase_count, digit_count, whitespace_count\n",
    "\n",
    "# Get input from the user\n",
    "user_input = input(\"Enter a string: \")\n",
    "\n",
    "# Call the function and get the results\n",
    "uppercase, lowercase, digits, whitespaces = count_characters(user_input)\n",
    "\n",
    "# Display the results\n",
    "print(f\"Number of uppercase letters: {uppercase}\")\n",
    "print(f\"Number of lowercase letters: {lowercase}\")\n",
    "print(f\"Number of digits: {digits}\")\n",
    "print(f\"Number of whitespace characters: {whitespaces}\")"
   ]
  },
  {
   "cell_type": "markdown",
   "id": "99757280-267d-4ba6-9ff0-a068a348693f",
   "metadata": {},
   "source": [
    " 3. Write a Python program that accepts a string from user. Your program should create and display a\n",
    "new string where the first and last characters have been exchanged.\n",
    "For example if the user enters the string 'HELLO' then new string would be 'OELLH' \n"
   ]
  },
  {
   "cell_type": "code",
   "execution_count": 20,
   "id": "c8212d09-6aa3-4d8e-92cb-238788846537",
   "metadata": {},
   "outputs": [
    {
     "name": "stdin",
     "output_type": "stream",
     "text": [
      "Enter a string:  engineering\n"
     ]
    },
    {
     "name": "stdout",
     "output_type": "stream",
     "text": [
      "New string after swapping first and last characters: gngineerine\n"
     ]
    }
   ],
   "source": [
    "\n",
    "user_input = input(\"Enter a string: \")\n",
    "if len(user_input) > 1:\n",
    "    new_string = user_input[-1] + user_input[1:-1] + user_input[0]\n",
    "else:\n",
    "    new_string = user_input\n",
    "print(\"New string after swapping first and last characters:\", new_string)"
   ]
  },
  {
   "cell_type": "markdown",
   "id": "937cfbf6-d271-43b7-8cd3-f32c4a00b044",
   "metadata": {},
   "source": [
    "4. Write a Python program that accepts a string from user. Your program should create a new string in\n",
    "reverse of first string and display it.\n",
    "For example if the user enters the string 'EXAM' then new string would be 'MAXE' "
   ]
  },
  {
   "cell_type": "code",
   "execution_count": 24,
   "id": "b902e207-6007-45b0-b11b-a23095dc76cb",
   "metadata": {},
   "outputs": [
    {
     "name": "stdin",
     "output_type": "stream",
     "text": [
      "Enter a string:  hello world\n"
     ]
    },
    {
     "name": "stdout",
     "output_type": "stream",
     "text": [
      "Reversed string: dlrow olleh\n"
     ]
    }
   ],
   "source": [
    "\n",
    "user_input = input(\"Enter a string: \")\n",
    "reversed_string = user_input[::-1]\n",
    "print(\"Reversed string:\", reversed_string)"
   ]
  },
  {
   "cell_type": "markdown",
   "id": "3b2b161b-25d6-49b3-bdca-6758ec776a3d",
   "metadata": {},
   "source": [
    "5. Write a Python program that accepts a string from user. Your program should create a new string by\n",
    "shifting one position to left.\n",
    "For example if the user enters the string 'examination 2021' then new string would be 'xamination\n",
    "2021e' \n"
   ]
  },
  {
   "cell_type": "code",
   "execution_count": 27,
   "id": "23ec8de1-2b20-4292-bc8b-9020b47b172f",
   "metadata": {},
   "outputs": [
    {
     "name": "stdin",
     "output_type": "stream",
     "text": [
      "Enter a string:  examination\n"
     ]
    },
    {
     "name": "stdout",
     "output_type": "stream",
     "text": [
      "Shifted string: xaminatione\n"
     ]
    }
   ],
   "source": [
    "\n",
    "user_input = input(\"Enter a string: \")\n",
    "if len(user_input) > 1:\n",
    "    shifted_string = user_input[1:] + user_input[0]\n",
    "else:\n",
    "    shifted_string = user_input\n",
    "print(\"Shifted string:\", shifted_string)"
   ]
  },
  {
   "cell_type": "markdown",
   "id": "5d49103a-b375-45bd-9b98-7a001ac7304a",
   "metadata": {},
   "source": [
    "6. Write a program that asks the user to input his name and print its initials. Assuming that the user\n",
    "always types first name, middle name and last name and does not include any unnecessary spaces.\n",
    "For example, if the user enters Ajay Kumar Garg the program should display A. K. G.\n",
    "Note:Don't use split() method"
   ]
  },
  {
   "cell_type": "code",
   "execution_count": 30,
   "id": "3f837b96-fd4e-4eb9-9dd2-50d55b43c508",
   "metadata": {},
   "outputs": [
    {
     "name": "stdin",
     "output_type": "stream",
     "text": [
      "Enter your full name (first, middle, last):  waqar ahmed khan\n"
     ]
    },
    {
     "name": "stdout",
     "output_type": "stream",
     "text": [
      "Initials: W. A. K.\n"
     ]
    }
   ],
   "source": [
    "# Get input from the user\n",
    "name = input(\"Enter your full name (first, middle, last): \")\n",
    "\n",
    "# Initialize variables\n",
    "initials = \"\"\n",
    "space_count = 0\n",
    "\n",
    "# Loop through the name to find initials\n",
    "for i in range(len(name)):\n",
    "    if i == 0:  # First character is always an initial\n",
    "        initials += name[i].upper() + \". \"\n",
    "    elif name[i] == \" \":  # Detect spaces to find the next initial\n",
    "        space_count += 1\n",
    "        if space_count <= 2:  # Assuming only first, middle, and last names\n",
    "            initials += name[i + 1].upper() + \". \"\n",
    "\n",
    "# Display the initials\n",
    "print(\"Initials:\", initials.strip())"
   ]
  },
  {
   "cell_type": "markdown",
   "id": "f58c93ed-a62d-439e-a598-89288acf52c6",
   "metadata": {},
   "source": [
    "7. A palindrome is a string that reads the same backward as forward. For example, the words dad,\n",
    "madam and radar are all palindromes. Write a programs that determines whether the string is a\n",
    "palindrome.\n",
    "Note: do not use reverse() method "
   ]
  },
  {
   "cell_type": "code",
   "execution_count": 33,
   "id": "929392b7-09f3-4b92-b29b-fac7c3009ea6",
   "metadata": {},
   "outputs": [
    {
     "name": "stdin",
     "output_type": "stream",
     "text": [
      "Enter a string:  ferrari\n"
     ]
    },
    {
     "name": "stdout",
     "output_type": "stream",
     "text": [
      "The string is not a palindrome.\n"
     ]
    }
   ],
   "source": [
    "# Get input from the user\n",
    "user_input = input(\"Enter a string: \")\n",
    "\n",
    "# Check if the string is a palindrome\n",
    "is_palindrome = True\n",
    "length = len(user_input)\n",
    "\n",
    "for i in range(length // 2):\n",
    "    if user_input[i] != user_input[length - 1 - i]:\n",
    "        is_palindrome = False\n",
    "        break\n",
    "\n",
    "# Display the result\n",
    "if is_palindrome:\n",
    "    print(\"The string is a palindrome.\")\n",
    "else:\n",
    "    print(\"The string is not a palindrome.\")"
   ]
  },
  {
   "cell_type": "markdown",
   "id": "7991e089-812d-4eda-acdf-0f90d99d731c",
   "metadata": {},
   "source": [
    "8. Write a program that display following output:\n",
    "SHIFT\n",
    "HIFTS\n",
    "IFTSH\n",
    "FTSHI\n",
    "TSHIF\n",
    "SHIFT"
   ]
  },
  {
   "cell_type": "code",
   "execution_count": 36,
   "id": "230b19aa-1bf4-4903-a45b-2bb12aa13e3d",
   "metadata": {},
   "outputs": [
    {
     "name": "stdout",
     "output_type": "stream",
     "text": [
      "SHIFT\n",
      "HIFTS\n",
      "IFTSH\n",
      "FTSHI\n",
      "TSHIF\n"
     ]
    }
   ],
   "source": [
    "# Define the string\n",
    "text = \"SHIFT\"\n",
    "\n",
    "# Loop to create and display the shifted strings\n",
    "for i in range(len(text)):\n",
    "    shifted_text = text[i:] + text[:i]\n",
    "    print(shifted_text)"
   ]
  },
  {
   "cell_type": "markdown",
   "id": "5ad25c40-72e1-4817-9b80-d4469661ebec",
   "metadata": {},
   "source": [
    "9. Write a program in python that accepts a string to setup a passwords. Your entered password must\n",
    "meet the following requirements:\n",
    "The password must be at least eight characters long.\n",
    "It must contain at least one uppercase letter.\n",
    "It must contain at least one lowercase letter.\n",
    "It must contain at least one numeric digit.\n",
    "Your program should should perform this validation. "
   ]
  },
  {
   "cell_type": "code",
   "execution_count": 39,
   "id": "f763e955-49a1-4cf3-95ce-387b062d8438",
   "metadata": {},
   "outputs": [
    {
     "name": "stdin",
     "output_type": "stream",
     "text": [
      "Enter a password:  Ferrari0334@\n"
     ]
    },
    {
     "name": "stdout",
     "output_type": "stream",
     "text": [
      "Password is valid.\n"
     ]
    }
   ],
   "source": [
    "def validate_password(password):\n",
    "    # Check if the password is at least 8 characters long\n",
    "    if len(password) < 8:\n",
    "        return False, \"Password must be at least 8 characters long.\"\n",
    "    \n",
    "    # Check if the password contains at least one uppercase letter\n",
    "    has_upper = any(char.isupper() for char in password)\n",
    "    if not has_upper:\n",
    "        return False, \"Password must contain at least one uppercase letter.\"\n",
    "    \n",
    "    # Check if the password contains at least one lowercase letter\n",
    "    has_lower = any(char.islower() for char in password)\n",
    "    if not has_lower:\n",
    "        return False, \"Password must contain at least one lowercase letter.\"\n",
    "    \n",
    "    # Check if the password contains at least one numeric digit\n",
    "    has_digit = any(char.isdigit() for char in password)\n",
    "    if not has_digit:\n",
    "        return False, \"Password must contain at least one numeric digit.\"\n",
    "    \n",
    "    # If all checks pass, the password is valid\n",
    "    return True, \"Password is valid.\"\n",
    "\n",
    "# Get input from the user\n",
    "password = input(\"Enter a password: \")\n",
    "\n",
    "# Validate the password\n",
    "is_valid, message = validate_password(password)\n",
    "\n",
    "# Display the result\n",
    "print(message)"
   ]
  },
  {
   "cell_type": "code",
   "execution_count": null,
   "id": "566af85a-b3f9-4576-85fe-5673b1dfa22e",
   "metadata": {},
   "outputs": [],
   "source": []
  }
 ],
 "metadata": {
  "kernelspec": {
   "display_name": "Python [conda env:base] *",
   "language": "python",
   "name": "conda-base-py"
  },
  "language_info": {
   "codemirror_mode": {
    "name": "ipython",
    "version": 3
   },
   "file_extension": ".py",
   "mimetype": "text/x-python",
   "name": "python",
   "nbconvert_exporter": "python",
   "pygments_lexer": "ipython3",
   "version": "3.12.7"
  }
 },
 "nbformat": 4,
 "nbformat_minor": 5
}
